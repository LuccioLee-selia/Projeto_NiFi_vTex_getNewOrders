{
 "cells": [
  {
   "cell_type": "code",
   "execution_count": 145,
   "metadata": {},
   "outputs": [],
   "source": [
    "import json\n",
    "import pyodbc\n",
    "import pandas as pd\n",
    "from sqlalchemy import create_engine, select, MetaData, Table\n",
    "import sqlalchemy as sa\n",
    "import urllib\n",
    "import sql_scripts as ss"
   ]
  },
  {
   "cell_type": "code",
   "execution_count": 146,
   "metadata": {},
   "outputs": [],
   "source": [
    "def getAuthforWMS(f_data):\n",
    "    wmsAccess = f_data[\"wmsAccess\"][0]\n",
    "    return wmsAccess"
   ]
  },
  {
   "cell_type": "code",
   "execution_count": 147,
   "metadata": {},
   "outputs": [],
   "source": [
    "def getConnforMYSQL(f_data, accessType):\n",
    "    dialect = pyodbc.drivers()[-1]\n",
    "    server = f_data[accessType][0][\"server\"]\n",
    "    db = f_data[accessType][0][\"database\"]\n",
    "    uid = f_data[accessType][0][\"uid\"]\n",
    "    pwd = f_data[accessType][0][\"pwd\"]\n",
    "    driver = f_data[accessType][0][\"dialect_driver\"]\n",
    "    port = f_data[accessType][0][\"port\"]\n",
    "\n",
    "    if accessType == \"azureAccess\":\n",
    "        connection_string = (\n",
    "            \" Driver={%s}\" %dialect +\n",
    "            \"; SERVER=%s\" %server + \n",
    "            \"; Database=%s \" %db + \n",
    "            \"; UID=%s\" %uid +\n",
    "            \"; PWD=%s\" %pwd\n",
    "        )\n",
    "        quoted = urllib.parse.quote_plus(connection_string)\n",
    "        quoted = f_data[accessType][0][\"dialect_driver\"] + quoted\n",
    "        engine = create_engine(quoted, fast_executemany=True).execution_options(isolation_level=\"AUTOCOMMIT\")\n",
    "    else:\n",
    "        quoted = driver + uid + \":\" + pwd + \"@\" + server + \":\" + str(port) + \"/\" + db\n",
    "        engine = create_engine(quoted).execution_options(isolation_level=\"AUTOCOMMIT\")\n",
    "        \n",
    "    return engine"
   ]
  },
  {
   "cell_type": "code",
   "execution_count": 148,
   "metadata": {},
   "outputs": [],
   "source": [
    "def extraction_function(conn_integrator, sql_text):\n",
    "    with conn_integrator.begin():\n",
    "        str_sql = sa.text(sql_text)\n",
    "        results = conn_integrator.execute(str_sql)\n",
    "        columns = results.keys()\n",
    "\n",
    "        list_columns = []\n",
    "        list_rows = []\n",
    "        #print column_names\n",
    "        for column_name in columns:\n",
    "            list_columns += [column_name]\n",
    "        for row in results:\n",
    "            list_rows += [row]\n",
    "\n",
    "    return pd.DataFrame(list_rows, columns = list_columns)"
   ]
  },
  {
   "cell_type": "code",
   "execution_count": 149,
   "metadata": {},
   "outputs": [],
   "source": [
    "def main ():\n",
    "    #open auth file\n",
    "    auth = open('auth.json')\n",
    "    auth_load = json.load(auth)\n",
    "\n",
    "    print(ss.queryList['queryVtexAccounts'])\n",
    "\n",
    "    '''\n",
    "    #getting conn for \n",
    "    engine_integrator = getConnforMYSQL(auth_load, \"integratorAccess\")\n",
    "    conn_integrator = engine_integrator.connect()\n",
    "    '''\n",
    "    #getting conn for azure\n",
    "    engine_azure = getConnforMYSQL(auth_load, \"azureAccess\")\n",
    "    conn_azure = engine_azure.connect()\n",
    "\n",
    "    #get functions file\n",
    "    functions = open ('extract_data.json')\n",
    "    functions_load = json.load(functions)\n",
    "\n",
    "    #do_stuff\n",
    "    for key in functions_load:\n",
    "        for work in functions_load[key]:\n",
    "            #extract data from integretor\n",
    "            sql_text = work[\"sql_text\"] + \"FROM \" + work[\"org_table\"]\n",
    "            df = extraction_function(conn_integrator, sql_text)\n",
    "            \n",
    "            #to-do: clear azure table\n",
    "            conn_azure.execute(\"DELETE FROM dbo.\" + work[\"tgt_table\"])\n",
    "            \n",
    "            #load data to azure table\n",
    "            df.to_sql(work[\"tgt_table\"], con=engine_azure, if_exists='replace', index=False)\n",
    "            \n",
    "    conn_integrator.close()\n",
    "    conn_azure.close()\n",
    "    '''"
   ]
  },
  {
   "cell_type": "code",
   "execution_count": 150,
   "metadata": {},
   "outputs": [
    {
     "name": "stdout",
     "output_type": "stream",
     "text": [
      "\n",
      "                        SELECT \n",
      "                            CONTA, \n",
      "                            CHAVE, \n",
      "                            TOKEN \n",
      "                        FROM \n",
      "                            acessos_vtex \n",
      "                        WHERE \n",
      "                            ATIVO = 'T' \n",
      "done\n"
     ]
    }
   ],
   "source": [
    "if __name__ == \"__main__\":\n",
    "    main()\n",
    "    print('done')"
   ]
  }
 ],
 "metadata": {
  "kernelspec": {
   "display_name": "Python 3",
   "language": "python",
   "name": "python3"
  },
  "language_info": {
   "codemirror_mode": {
    "name": "ipython",
    "version": 3
   },
   "file_extension": ".py",
   "mimetype": "text/x-python",
   "name": "python",
   "nbconvert_exporter": "python",
   "pygments_lexer": "ipython3",
   "version": "3.11.4"
  },
  "orig_nbformat": 4
 },
 "nbformat": 4,
 "nbformat_minor": 2
}
